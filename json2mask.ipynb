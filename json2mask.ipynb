{
 "cells": [
  {
   "cell_type": "code",
   "execution_count": 20,
   "metadata": {},
   "outputs": [],
   "source": [
    "import json\n",
    "import numpy as np\n",
    "from PIL import Image, ImageDraw\n",
    "import os\n",
    "\n",
    "json_path = './label/'\n",
    "mask_path = './mask/'\n",
    "ext = '.bmp'"
   ]
  },
  {
   "cell_type": "code",
   "execution_count": 23,
   "metadata": {},
   "outputs": [],
   "source": [
    "def polygons_to_mask_array(json_file) -> np.ndarray:\n",
    "    with open(json_file, encoding = 'utf-8') as f:\n",
    "        data = json.load(f)\n",
    "    width = int(data['imageWidth'])\n",
    "    height = int(data['imageHeight'])\n",
    "    polygons = data['shapes']\n",
    "    img = Image.new('L', (width, height), 0)    \n",
    "    for polygon in polygons:\n",
    "        nested_lst_of_tuples = [tuple(l) for l in polygon['points']]\n",
    "        ImageDraw.Draw(img).polygon(nested_lst_of_tuples, outline=255, fill=1255)\n",
    "    mask = np.array(img)\n",
    "    \n",
    "    return mask\n",
    "\n",
    "for file in os.listdir(json_path):\n",
    "    mask = polygons_to_mask_array(os.path.join(json_path, file))\n",
    "    img = Image.fromarray(mask)\n",
    "    img.save(os.path.join(mask_path, file.replace(\".json\", ext)))"
   ]
  }
 ],
 "metadata": {
  "kernelspec": {
   "display_name": "Python 3",
   "language": "python",
   "name": "python3"
  },
  "language_info": {
   "codemirror_mode": {
    "name": "ipython",
    "version": 3
   },
   "file_extension": ".py",
   "mimetype": "text/x-python",
   "name": "python",
   "nbconvert_exporter": "python",
   "pygments_lexer": "ipython3",
   "version": "3.8.3"
  }
 },
 "nbformat": 4,
 "nbformat_minor": 4
}
